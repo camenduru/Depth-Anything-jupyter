{
  "cells": [
    {
      "cell_type": "markdown",
      "metadata": {
        "id": "view-in-github"
      },
      "source": [
        "[![Open In Colab](https://colab.research.google.com/assets/colab-badge.svg)](https://colab.research.google.com/github/camenduru/Depth-Anything-jupyter/blob/main/Depth_Anything_Video_jupyter.ipynb)"
      ]
    },
    {
      "cell_type": "code",
      "execution_count": null,
      "metadata": {
        "id": "VjYy0F2gZIPR"
      },
      "outputs": [],
      "source": [
        "%cd /content\n",
        "!git clone -b dev https://github.dev/camenduru/Depth-Anything-Video-hf\n",
        "%cd /content/Depth-Anything-Video-hf\n",
        "\n",
        "!apt -y install -qq aria2\n",
        "!aria2c --console-log-level=error -c -x 16 -s 16 -k 1M https://huggingface.co/spaces/JohanDL/Depth-Anything-Video/resolve/main/assets/controlnet_demo1.png -d /content/Depth-Anything-Video-hf -o controlnet_demo1.png\n",
        "!aria2c --console-log-level=error -c -x 16 -s 16 -k 1M https://huggingface.co/spaces/JohanDL/Depth-Anything-Video/resolve/main/assets/controlnet_demo2.png -d /content/Depth-Anything-Video-hf -o controlnet_demo2.png\n",
        "!aria2c --console-log-level=error -c -x 16 -s 16 -k 1M https://huggingface.co/spaces/JohanDL/Depth-Anything-Video/resolve/main/assets/examples_video/davis_dolphins.mp4 -d /content/Depth-Anything-Video-hf -o davis_dolphins.mp4\n",
        "!aria2c --console-log-level=error -c -x 16 -s 16 -k 1M https://huggingface.co/spaces/JohanDL/Depth-Anything-Video/resolve/main/assets/examples_video/davis_rollercoaster.mp4 -d /content/Depth-Anything-Video-hf -o davis_rollercoaster.mp4\n",
        "!aria2c --console-log-level=error -c -x 16 -s 16 -k 1M https://huggingface.co/spaces/JohanDL/Depth-Anything-Video/resolve/main/assets/examples_video/davis_seasnake.mp4 -d /content/Depth-Anything-Video-hf -o davis_seasnake.mp4\n",
        "!aria2c --console-log-level=error -c -x 16 -s 16 -k 1M https://huggingface.co/spaces/JohanDL/Depth-Anything-Video/resolve/main/assets/examples/demo1.png -d /content/Depth-Anything-Video-hf -o demo1.png\n",
        "!aria2c --console-log-level=error -c -x 16 -s 16 -k 1M https://huggingface.co/spaces/JohanDL/Depth-Anything-Video/resolve/main/assets/examples/demo10.png -d /content/Depth-Anything-Video-hf -o demo10.png\n",
        "!aria2c --console-log-level=error -c -x 16 -s 16 -k 1M https://huggingface.co/spaces/JohanDL/Depth-Anything-Video/resolve/main/assets/examples/demo11.png -d /content/Depth-Anything-Video-hf -o demo11.png\n",
        "!aria2c --console-log-level=error -c -x 16 -s 16 -k 1M https://huggingface.co/spaces/JohanDL/Depth-Anything-Video/resolve/main/assets/examples/demo12.png -d /content/Depth-Anything-Video-hf -o demo12.png\n",
        "!aria2c --console-log-level=error -c -x 16 -s 16 -k 1M https://huggingface.co/spaces/JohanDL/Depth-Anything-Video/resolve/main/assets/examples/demo13.png -d /content/Depth-Anything-Video-hf -o demo13.png\n",
        "!aria2c --console-log-level=error -c -x 16 -s 16 -k 1M https://huggingface.co/spaces/JohanDL/Depth-Anything-Video/resolve/main/assets/examples/demo14.png -d /content/Depth-Anything-Video-hf -o demo14.png\n",
        "!aria2c --console-log-level=error -c -x 16 -s 16 -k 1M https://huggingface.co/spaces/JohanDL/Depth-Anything-Video/resolve/main/assets/examples/demo15.png -d /content/Depth-Anything-Video-hf -o demo15.png\n",
        "!aria2c --console-log-level=error -c -x 16 -s 16 -k 1M https://huggingface.co/spaces/JohanDL/Depth-Anything-Video/resolve/main/assets/examples/demo16.png -d /content/Depth-Anything-Video-hf -o demo16.png\n",
        "!aria2c --console-log-level=error -c -x 16 -s 16 -k 1M https://huggingface.co/spaces/JohanDL/Depth-Anything-Video/resolve/main/assets/examples/demo17.png -d /content/Depth-Anything-Video-hf -o demo17.png\n",
        "!aria2c --console-log-level=error -c -x 16 -s 16 -k 1M https://huggingface.co/spaces/JohanDL/Depth-Anything-Video/resolve/main/assets/examples/demo18.png -d /content/Depth-Anything-Video-hf -o demo18.png\n",
        "!aria2c --console-log-level=error -c -x 16 -s 16 -k 1M https://huggingface.co/spaces/JohanDL/Depth-Anything-Video/resolve/main/assets/examples/demo19.png -d /content/Depth-Anything-Video-hf -o demo19.png\n",
        "!aria2c --console-log-level=error -c -x 16 -s 16 -k 1M https://huggingface.co/spaces/JohanDL/Depth-Anything-Video/resolve/main/assets/examples/demo2.png -d /content/Depth-Anything-Video-hf -o demo2.png\n",
        "!aria2c --console-log-level=error -c -x 16 -s 16 -k 1M https://huggingface.co/spaces/JohanDL/Depth-Anything-Video/resolve/main/assets/examples/demo20.png -d /content/Depth-Anything-Video-hf -o demo20.png\n",
        "!aria2c --console-log-level=error -c -x 16 -s 16 -k 1M https://huggingface.co/spaces/JohanDL/Depth-Anything-Video/resolve/main/assets/examples/demo3.png -d /content/Depth-Anything-Video-hf -o demo3.png\n",
        "!aria2c --console-log-level=error -c -x 16 -s 16 -k 1M https://huggingface.co/spaces/JohanDL/Depth-Anything-Video/resolve/main/assets/examples/demo4.png -d /content/Depth-Anything-Video-hf -o demo4.png\n",
        "!aria2c --console-log-level=error -c -x 16 -s 16 -k 1M https://huggingface.co/spaces/JohanDL/Depth-Anything-Video/resolve/main/assets/examples/demo5.png -d /content/Depth-Anything-Video-hf -o demo5.png\n",
        "!aria2c --console-log-level=error -c -x 16 -s 16 -k 1M https://huggingface.co/spaces/JohanDL/Depth-Anything-Video/resolve/main/assets/examples/demo7.png -d /content/Depth-Anything-Video-hf -o demo7.png\n",
        "!aria2c --console-log-level=error -c -x 16 -s 16 -k 1M https://huggingface.co/spaces/JohanDL/Depth-Anything-Video/resolve/main/assets/examples/demo8.png -d /content/Depth-Anything-Video-hf -o demo8.png\n",
        "!aria2c --console-log-level=error -c -x 16 -s 16 -k 1M https://huggingface.co/spaces/JohanDL/Depth-Anything-Video/resolve/main/assets/examples/demo9.png -d /content/Depth-Anything-Video-hf -o demo9.png\n",
        "!aria2c --console-log-level=error -c -x 16 -s 16 -k 1M https://huggingface.co/spaces/JohanDL/Depth-Anything-Video/resolve/main/assets/paper.pdf -d /content/Depth-Anything-Video-hf -o paper.pdf\n",
        "!aria2c --console-log-level=error -c -x 16 -s 16 -k 1M https://huggingface.co/spaces/JohanDL/Depth-Anything-Video/resolve/main/assets/teaser.png -d /content/Depth-Anything-Video-hf -o teaser.png\n",
        "!aria2c --console-log-level=error -c -x 16 -s 16 -k 1M https://huggingface.co/spaces/JohanDL/Depth-Anything-Video/resolve/main/assets/video_edit/demo1_midas.mp4 -d /content/Depth-Anything-Video-hf -o demo1_midas.mp4\n",
        "!aria2c --console-log-level=error -c -x 16 -s 16 -k 1M https://huggingface.co/spaces/JohanDL/Depth-Anything-Video/resolve/main/assets/video_edit/demo1_ours.mp4 -d /content/Depth-Anything-Video-hf -o demo1_ours.mp4\n",
        "!aria2c --console-log-level=error -c -x 16 -s 16 -k 1M https://huggingface.co/spaces/JohanDL/Depth-Anything-Video/resolve/main/assets/video_edit/demo1_video.mp4 -d /content/Depth-Anything-Video-hf -o demo1_video.mp4\n",
        "!aria2c --console-log-level=error -c -x 16 -s 16 -k 1M https://huggingface.co/spaces/JohanDL/Depth-Anything-Video/resolve/main/assets/video_edit/demo2_midas.mp4 -d /content/Depth-Anything-Video-hf -o demo2_midas.mp4\n",
        "!aria2c --console-log-level=error -c -x 16 -s 16 -k 1M https://huggingface.co/spaces/JohanDL/Depth-Anything-Video/resolve/main/assets/video_edit/demo2_ours.mp4 -d /content/Depth-Anything-Video-hf -o demo2_ours.mp4\n",
        "!aria2c --console-log-level=error -c -x 16 -s 16 -k 1M https://huggingface.co/spaces/JohanDL/Depth-Anything-Video/resolve/main/assets/video_edit/demo2_video.mp4 -d /content/Depth-Anything-Video-hf -o demo2_video.mp4\n",
        "!aria2c --console-log-level=error -c -x 16 -s 16 -k 1M https://huggingface.co/spaces/JohanDL/Depth-Anything-Video/resolve/main/checkpoints/depth_anything_vitb14.pth -d /content/Depth-Anything-Video-hf -o depth_anything_vitb14.pth\n",
        "!aria2c --console-log-level=error -c -x 16 -s 16 -k 1M https://huggingface.co/spaces/JohanDL/Depth-Anything-Video/resolve/main/checkpoints/depth_anything_vitl14.pth -d /content/Depth-Anything-Video-hf -o depth_anything_vitl14.pth\n",
        "!aria2c --console-log-level=error -c -x 16 -s 16 -k 1M https://huggingface.co/spaces/JohanDL/Depth-Anything-Video/resolve/main/checkpoints/depth_anything_vits14.pth -d /content/Depth-Anything-Video-hf -o depth_anything_vits14.pth\n",
        "\n",
        "!pip install -q gradio==4.14.0 gradio_imageslider\n",
        "\n",
        "!python app.py"
      ]
    }
  ],
  "metadata": {
    "accelerator": "GPU",
    "colab": {
      "gpuType": "T4",
      "provenance": []
    },
    "kernelspec": {
      "display_name": "Python 3",
      "name": "python3"
    },
    "language_info": {
      "name": "python"
    }
  },
  "nbformat": 4,
  "nbformat_minor": 0
}
